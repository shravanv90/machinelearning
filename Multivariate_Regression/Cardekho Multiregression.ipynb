{
 "cells": [
  {
   "cell_type": "markdown",
   "metadata": {},
   "source": [
    "# Cardekho Multivariate regression"
   ]
  },
  {
   "cell_type": "code",
   "execution_count": 43,
   "metadata": {},
   "outputs": [
    {
     "name": "stderr",
     "output_type": "stream",
     "text": [
      "c:\\users\\asus\\appdata\\local\\programs\\python\\python35\\lib\\importlib\\_bootstrap.py:222: RuntimeWarning: numpy.ufunc size changed, may indicate binary incompatibility. Expected 192 from C header, got 216 from PyObject\n",
      "  return f(*args, **kwds)\n"
     ]
    },
    {
     "name": "stdout",
     "output_type": "stream",
     "text": [
      "  Car_Name  Year  Selling_Price  Present_Price  Kms_Driven Fuel_Type  \\\n",
      "0     ritz  2014           3.35           5.59       27000    Petrol   \n",
      "1      sx4  2013           4.75           9.54       43000    Diesel   \n",
      "2     ciaz  2017           7.25           9.85        6900    Petrol   \n",
      "3  wagon r  2011           2.85           4.15        5200    Petrol   \n",
      "4    swift  2014           4.60           6.87       42450    Diesel   \n",
      "\n",
      "  Seller_Type Transmission  Owner  \n",
      "0      Dealer       Manual      0  \n",
      "1      Dealer       Manual      0  \n",
      "2      Dealer       Manual      0  \n",
      "3      Dealer       Manual      0  \n",
      "4      Dealer       Manual      0  \n"
     ]
    }
   ],
   "source": [
    "# import required libraries\n",
    "%matplotlib inline\n",
    "import pandas as pd\n",
    "import numpy as np\n",
    "from sklearn.preprocessing import StandardScaler\n",
    "import statsmodels.api as sm\n",
    "from sklearn.metrics import r2_score\n",
    "\n",
    "#create a car dataframe\n",
    "car_df = pd.read_csv('D:\\Machine Learning\\Data sets\\Car data.csv')\n",
    "print (car_df.head())"
   ]
  },
  {
   "cell_type": "code",
   "execution_count": 9,
   "metadata": {},
   "outputs": [
    {
     "name": "stdout",
     "output_type": "stream",
     "text": [
      "                  Selling_Price     Kms_Driven\n",
      "Kms_Driven                                    \n",
      "(0, 50000]             4.545617   24612.429787\n",
      "(50000, 100000]        5.096724   65226.741379\n",
      "(100000, 150000]       7.050000  128772.200000\n",
      "(150000, 200000]       3.490000  197176.000000\n",
      "(200000, 250000]       0.310000  213000.000000\n"
     ]
    },
    {
     "data": {
      "text/plain": [
       "<matplotlib.axes._subplots.AxesSubplot at 0x28d14aa75c0>"
      ]
     },
     "execution_count": 9,
     "metadata": {},
     "output_type": "execute_result"
    },
    {
     "data": {
      "image/png": "[encoded data removed]",
      "text/plain": [
       "<Figure size 432x288 with 1 Axes>"
      ]
     },
     "metadata": {
      "needs_background": "light"
     },
     "output_type": "display_data"
    }
   ],
   "source": [
    "car_df1 = car_df[['Selling_Price','Kms_Driven']]\n",
    "bins = np.arange(0,600000,50000)\n",
    "groups = car_df1.groupby(pd.cut(car_df1['Kms_Driven'],bins)).mean()\n",
    "print(groups.head())\n",
    "groups['Selling_Price'].plot.line()"
   ]
  },
  {
   "cell_type": "code",
   "execution_count": 47,
   "metadata": {},
   "outputs": [
    {
     "name": "stderr",
     "output_type": "stream",
     "text": [
      "c:\\users\\asus\\appdata\\local\\programs\\python\\python35\\lib\\site-packages\\ipykernel_launcher.py:7: FutureWarning: Method .as_matrix will be removed in a future version. Use .values instead.\n",
      "  import sys\n",
      "c:\\users\\asus\\appdata\\local\\programs\\python\\python35\\lib\\site-packages\\ipykernel_launcher.py:7: SettingWithCopyWarning: \n",
      "A value is trying to be set on a copy of a slice from a DataFrame.\n",
      "Try using .loc[row_indexer,col_indexer] = value instead\n",
      "\n",
      "See the caveats in the documentation: http://pandas.pydata.org/pandas-docs/stable/indexing.html#indexing-view-versus-copy\n",
      "  import sys\n",
      "c:\\users\\asus\\appdata\\local\\programs\\python\\python35\\lib\\site-packages\\pandas\\core\\indexing.py:543: SettingWithCopyWarning: \n",
      "A value is trying to be set on a copy of a slice from a DataFrame.\n",
      "Try using .loc[row_indexer,col_indexer] = value instead\n",
      "\n",
      "See the caveats in the documentation: http://pandas.pydata.org/pandas-docs/stable/indexing.html#indexing-view-versus-copy\n",
      "  self.obj[item] = s\n"
     ]
    },
    {
     "name": "stdout",
     "output_type": "stream",
     "text": [
      "   Kms_Driven  Present_Price     Owner\n",
      "0   -0.256224      -0.236215 -0.174501\n",
      "1    0.155911       0.221505 -0.174501\n",
      "2   -0.773969       0.257427 -0.174501\n",
      "3   -0.817758      -0.403079 -0.174501\n",
      "4    0.141743      -0.087890 -0.174501\n",
      "                                 OLS Regression Results                                \n",
      "=======================================================================================\n",
      "Dep. Variable:          Selling_Price   R-squared (uncentered):                   0.435\n",
      "Model:                            OLS   Adj. R-squared (uncentered):              0.430\n",
      "Method:                 Least Squares   F-statistic:                              76.60\n",
      "Date:                Sun, 12 Jan 2020   Prob (F-statistic):                    9.40e-37\n",
      "Time:                        23:08:57   Log-Likelihood:                         -922.04\n",
      "No. Observations:                 301   AIC:                                      1850.\n",
      "Df Residuals:                     298   BIC:                                      1861.\n",
      "Df Model:                           3                                                  \n",
      "Covariance Type:            nonrobust                                                  \n",
      "=================================================================================\n",
      "                    coef    std err          t      P>|t|      [0.025      0.975]\n",
      "---------------------------------------------------------------------------------\n",
      "Kms_Driven       -0.7549      0.308     -2.454      0.015      -1.360      -0.150\n",
      "Present_Price     4.6174      0.306     15.072      0.000       4.014       5.220\n",
      "Owner            -0.4181      0.301     -1.389      0.166      -1.011       0.174\n",
      "==============================================================================\n",
      "Omnibus:                       65.364   Durbin-Watson:                   0.318\n",
      "Prob(Omnibus):                  0.000   Jarque-Bera (JB):             1191.924\n",
      "Skew:                           0.161   Prob(JB):                    1.50e-259\n",
      "Kurtosis:                      12.743   Cond. No.                         1.25\n",
      "==============================================================================\n",
      "\n",
      "Warnings:\n",
      "[1] Standard Errors assume that the covariance matrix of the errors is correctly specified.\n"
     ]
    }
   ],
   "source": [
    "scale = StandardScaler()\n",
    "\n",
    "X = car_df[['Kms_Driven','Present_Price','Owner']]\n",
    "\n",
    "Y = car_df[['Selling_Price']]\n",
    "\n",
    "X[['Kms_Driven', 'Present_Price', 'Owner']] = scale.fit_transform(X[['Kms_Driven', 'Present_Price', 'Owner']].as_matrix())\n",
    "\n",
    "print (X.head())\n",
    "\n",
    "predict_price = sm.OLS(Y,X).fit()\n",
    "\n",
    "\n",
    "print(predict_price.summary())"
   ]
  },
  {
   "cell_type": "markdown",
   "metadata": {},
   "source": [
    "#### Here the R square value (0.435) is pretty low and we get a sense that the model poorly fits the input data."
   ]
  },
  {
   "cell_type": "code",
   "execution_count": 49,
   "metadata": {},
   "outputs": [
    {
     "name": "stdout",
     "output_type": "stream",
     "text": [
      "[[-0.92594378  0.79626092  3.86585888]]\n",
      "[2.75915699]\n"
     ]
    }
   ],
   "source": [
    "# making a prediction for a new input\n",
    "\n",
    "newinput_scaled = scale.transform([[1000,14.5, 1]])\n",
    "print(newinput_scaled)\n",
    "\n",
    "new_prediction = predict_price.predict(newinput_scaled[0])\n",
    "\n",
    "print(new_prediction)\n"
   ]
  },
  {
   "cell_type": "code",
   "execution_count": null,
   "metadata": {},
   "outputs": [],
   "source": []
  }
 ],
 "metadata": {
  "kernelspec": {
   "display_name": "Python 3",
   "language": "python",
   "name": "python3"
  },
  "language_info": {
   "codemirror_mode": {
    "name": "ipython",
    "version": 3
   },
   "file_extension": ".py",
   "mimetype": "text/x-python",
   "name": "python",
   "nbconvert_exporter": "python",
   "pygments_lexer": "ipython3",
   "version": "3.5.2"
  }
 },
 "nbformat": 4,
 "nbformat_minor": 2
}
