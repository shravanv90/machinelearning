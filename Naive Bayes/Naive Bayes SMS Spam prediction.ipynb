{
 "cells": [
  {
   "cell_type": "markdown",
   "metadata": {},
   "source": [
    "### Mobile Phone SMS Spam prediction - Naive Bayes"
   ]
  },
  {
   "cell_type": "code",
   "execution_count": 19,
   "metadata": {},
   "outputs": [
    {
     "name": "stdout",
     "output_type": "stream",
     "text": [
      "0       Hope you are having a good week. Just checking in\n",
      "1                                 K..give back my thanks.\n",
      "2             Am also doing in cbe only. But have to pay.\n",
      "3       complimentary 4 STAR Ibiza Holiday or £10,000 ...\n",
      "4       okmail: Dear Dave this is your final notice to...\n",
      "5       Aiya we discuss later lar... Pick u up at 4 is...\n",
      "6                                  Are you this much buzy\n",
      "7                         Please ask mummy to call father\n",
      "8       Marvel Mobile Play the official Ultimate Spide...\n",
      "9          fyi I'm at usf now, swing by the room whenever\n",
      "10      Sure thing big man. i have hockey elections at...\n",
      "11                                      I anything lor...\n",
      "12      By march ending, i should be ready. But will c...\n",
      "13                                 Hmm well, night night \n",
      "14      K I'll be sure to get up before noon and see w...\n",
      "15                 Ha ha cool cool chikku chikku:-):-DB-)\n",
      "16      Darren was saying dat if u meeting da ge den w...\n",
      "17      He dint tell anything. He is angry on me that ...\n",
      "18      Up to u... u wan come then come lor... But i d...\n",
      "19      U can WIN £100 of Music Gift Vouchers every we...\n",
      "20         2mro i am not coming to gym machan. Goodnight.\n",
      "21      ARR birthday today:) i wish him to get more os...\n",
      "22      Reading gud habit.. Nan bari hudgi yorge patai...\n",
      "23      I sent my scores to sophas and i had to do sec...\n",
      "24        Could you not read me, my Love ? I answered you\n",
      "25              So what did the bank say about the money?\n",
      "26      Well if I'm that desperate I'll just call arma...\n",
      "27                    Fuuuuck I need to stop sleepin, sup\n",
      "28                       So how's the weather over there?\n",
      "29                                            Ok thanx...\n",
      "                              ...                        \n",
      "5529                           Ya:)going for restaurant..\n",
      "5530                             At home watching tv lor.\n",
      "5531    No, I decided that only people who care about ...\n",
      "5532    Sunshine Quiz Wkly Q! Win a top Sony DVD playe...\n",
      "5533                         Ok lor thanx... u in school?\n",
      "5534    She said,'' do u mind if I go into the bedroom...\n",
      "5535                                                Ok...\n",
      "5536    No dice, art class 6 thru 9 :( thanks though. ...\n",
      "5537             Good night my dear.. Sleepwell&Take care\n",
      "5538    HOT LIVE FANTASIES call now 08707509020 Just 2...\n",
      "5539     G says you never answer your texts, confirm/deny\n",
      "5540         Yes but I don't care cause I know its there!\n",
      "5541              Dear how is chechi. Did you talk to her\n",
      "5542    Lmao ok I wont be needing u to do my hair anym...\n",
      "5543    What's up my own oga. Left my phone at home an...\n",
      "5544    And stop wondering wow is she ever going to st...\n",
      "5545                        What happened to our yo date?\n",
      "5546                Damn, poor zac doesn't stand a chance\n",
      "5547                Ya very nice. . .be ready on thursday\n",
      "5548    ER, ENJOYIN INDIANS AT THE MO..yeP. SaLL gOoD ...\n",
      "5549                      Hey! There's veggie pizza... :/\n",
      "5550    I have 2 sleeping bags, 1 blanket and paper an...\n",
      "5551    Ur balance is now £500. Ur next question is: W...\n",
      "5552                        Already one guy loving you:-.\n",
      "5553                 Prepare to be pounded every night...\n",
      "5554    You are a great role model. You are giving so ...\n",
      "5555    Awesome, I remember the last time we got someb...\n",
      "5556    If you don't, your prize will go to another cu...\n",
      "5557    SMS. ac JSco: Energy is high, but u may not kn...\n",
      "5558                      Shall call now dear having food\n",
      "Name: text, Length: 5559, dtype: object\n"
     ]
    },
    {
     "data": {
      "text/plain": [
       "MultinomialNB(alpha=1.0, class_prior=None, fit_prior=True)"
      ]
     },
     "execution_count": 19,
     "metadata": {},
     "output_type": "execute_result"
    }
   ],
   "source": [
    "#import necessary libraries\n",
    "import pandas as pd\n",
    "import numpy as np\n",
    "from sklearn.feature_extraction.text import CountVectorizer\n",
    "from sklearn.naive_bayes import MultinomialNB\n",
    "\n",
    "\n",
    "# import csv in a data frame\n",
    "\n",
    "sms_df = pd.read_csv('D:\\\\Machine Learning\\\\Data sets\\\\filtering-mobile-phone-spam\\\\sms_spam.csv')\n",
    "\n",
    "#print(sms_df.head())\n",
    "\n",
    "# assigning the vectorizer \n",
    "vectorizer = CountVectorizer()\n",
    "\n",
    "#X = vectorizer.fit_transform(sms_df['text'])\n",
    "\n",
    "X_input = vectorizer.fit_transform(sms_df['text'])\n",
    "\n",
    "print(sms_df['text'])\n",
    "\n",
    "# assigning the Naive bayes classifier\n",
    "classifier_nb = MultinomialNB()\n",
    "\n",
    "Y_output = sms_df['type']\n",
    "\n",
    "classifier_nb.fit(X_input, Y_output)\n"
   ]
  },
  {
   "cell_type": "code",
   "execution_count": 20,
   "metadata": {},
   "outputs": [
    {
     "data": {
      "text/plain": [
       "array(['ham', 'spam'], dtype='<U4')"
      ]
     },
     "execution_count": 20,
     "metadata": {},
     "output_type": "execute_result"
    }
   ],
   "source": [
    "# Test with a sample input\n",
    "\n",
    "test = [\"Hi shravan , whts up?, want to go out for a game?\",\"Congratulations, you have Won!!!\"]\n",
    "\n",
    "test_count = vectorizer.transform(test)\n",
    "\n",
    "# making a prediction on the sample SMS message\n",
    "prediction = classifier_nb.predict(test_count)\n",
    "\n",
    "prediction\n",
    "\n"
   ]
  },
  {
   "cell_type": "markdown",
   "metadata": {},
   "source": [
    "#### So, the first SMS is classified as ham(Not SPAM) and the second one is classified a s SPAM."
   ]
  },
  {
   "cell_type": "code",
   "execution_count": null,
   "metadata": {},
   "outputs": [],
   "source": []
  }
 ],
 "metadata": {
  "kernelspec": {
   "display_name": "Python 3",
   "language": "python",
   "name": "python3"
  },
  "language_info": {
   "codemirror_mode": {
    "name": "ipython",
    "version": 3
   },
   "file_extension": ".py",
   "mimetype": "text/x-python",
   "name": "python",
   "nbconvert_exporter": "python",
   "pygments_lexer": "ipython3",
   "version": "3.5.2"
  }
 },
 "nbformat": 4,
 "nbformat_minor": 2
}
