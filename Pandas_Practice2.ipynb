{
 "cells": [
  {
   "cell_type": "markdown",
   "metadata": {
    "colab_type": "text",
    "id": "WFYuAxS2hcu6"
   },
   "source": [
    "**Consider the following Python dictionary data and Python list labels:**\n",
    "\n",
    "data = {'birds': ['Cranes', 'Cranes', 'plovers', 'spoonbills', 'spoonbills', 'Cranes', 'plovers', 'Cranes', 'spoonbills', 'spoonbills'],\n",
    "        'age': [3.5, 4, 1.5, np.nan, 6, 3, 5.5, np.nan, 8, 4],\n",
    "        'visits': [2, 4, 3, 4, 3, 4, 2, 2, 3, 2],\n",
    "        'priority': ['yes', 'yes', 'no', 'yes', 'no', 'no', 'no', 'yes', 'no', 'no']}\n",
    "\n",
    "labels = ['a', 'b', 'c', 'd', 'e', 'f', 'g', 'h', 'i', 'j']\n"
   ]
  },
  {
   "cell_type": "markdown",
   "metadata": {
    "colab_type": "text",
    "id": "KaY8jRX3hcu9"
   },
   "source": [
    "**1. Create a DataFrame birds from this dictionary data which has the index labels.**"
   ]
  },
  {
   "cell_type": "code",
   "execution_count": 1,
   "metadata": {
    "colab": {},
    "colab_type": "code",
    "id": "AWrM74tnhcu_"
   },
   "outputs": [
    {
     "name": "stdout",
     "output_type": "stream",
     "text": [
      "      age       birds priority  visits\n",
      "0     3.5      Cranes      yes       2\n",
      "1       4      Cranes      yes       4\n",
      "2     1.5     plovers       no       3\n",
      "3  np.nan  spoonbills      yes       4\n",
      "4       6  spoonbills       no       3\n",
      "5       3      Cranes       no       4\n",
      "6     5.5     plovers       no       2\n",
      "7  np.nan      Cranes      yes       2\n",
      "8       8  spoonbills       no       3\n",
      "9       4  spoonbills       no       2\n"
     ]
    }
   ],
   "source": [
    "import pandas as pd\n",
    "import numpy as np\n",
    "\n",
    "data = {'birds': ['Cranes', 'Cranes', 'plovers', 'spoonbills', 'spoonbills', 'Cranes', 'plovers', 'Cranes', 'spoonbills', 'spoonbills'], 'age':  [3.5, 4, 1.5, 'np.nan', 6, 3, 5.5, 'np.nan', 8, 4], 'visits': [2, 4, 3, 4, 3, 4, 2, 2, 3, 2], 'priority': ['yes', 'yes', 'no', 'yes', 'no', 'no', 'no', 'yes', 'no', 'no']}\n",
    "\n",
    "labels = ['a', 'b', 'c', 'd', 'e', 'f', 'g', 'h', 'i', 'j']\n",
    "\n",
    "birds_df = pd.DataFrame.from_dict(data)\n",
    "\n",
    "\n",
    "\n",
    "print(birds_df)"
   ]
  },
  {
   "cell_type": "markdown",
   "metadata": {
    "colab_type": "text",
    "id": "31bQ4H55hcvG"
   },
   "source": [
    "**2. Display a summary of the basic information about birds DataFrame and its data.**"
   ]
  },
  {
   "cell_type": "code",
   "execution_count": 2,
   "metadata": {
    "colab": {},
    "colab_type": "code",
    "id": "PT7e5BiThcvI"
   },
   "outputs": [
    {
     "name": "stdout",
     "output_type": "stream",
     "text": [
      "          visits\n",
      "count  10.000000\n",
      "mean    2.900000\n",
      "std     0.875595\n",
      "min     2.000000\n",
      "25%     2.000000\n",
      "50%     3.000000\n",
      "75%     3.750000\n",
      "max     4.000000\n"
     ]
    },
    {
     "data": {
      "text/plain": [
       "0        Cranes\n",
       "1        Cranes\n",
       "2       plovers\n",
       "3    spoonbills\n",
       "4    spoonbills\n",
       "5        Cranes\n",
       "6       plovers\n",
       "7        Cranes\n",
       "8    spoonbills\n",
       "9    spoonbills\n",
       "Name: birds, dtype: object"
      ]
     },
     "execution_count": 2,
     "metadata": {},
     "output_type": "execute_result"
    }
   ],
   "source": [
    "print(birds_df.describe())\n",
    "\n",
    "birds_df['birds']"
   ]
  },
  {
   "cell_type": "markdown",
   "metadata": {
    "colab_type": "text",
    "id": "ppsyynzjhcvN"
   },
   "source": [
    "**3. Print the first 2 rows of the birds dataframe **"
   ]
  },
  {
   "cell_type": "code",
   "execution_count": 3,
   "metadata": {
    "colab": {},
    "colab_type": "code",
    "id": "mJtG2ES9hcvQ"
   },
   "outputs": [
    {
     "name": "stdout",
     "output_type": "stream",
     "text": [
      "   age   birds priority  visits\n",
      "0  3.5  Cranes      yes       2\n",
      "1    4  Cranes      yes       4\n"
     ]
    }
   ],
   "source": [
    "print(birds_df.head(2))"
   ]
  },
  {
   "cell_type": "markdown",
   "metadata": {
    "colab_type": "text",
    "id": "331CiAQDhcvW"
   },
   "source": [
    "**4. Print all the rows with only 'birds' and 'age' columns from the dataframe**"
   ]
  },
  {
   "cell_type": "code",
   "execution_count": 4,
   "metadata": {
    "colab": {},
    "colab_type": "code",
    "id": "eJm1icJhhcvY"
   },
   "outputs": [
    {
     "data": {
      "text/html": [
       "<div>\n",
       "<style scoped>\n",
       "    .dataframe tbody tr th:only-of-type {\n",
       "        vertical-align: middle;\n",
       "    }\n",
       "\n",
       "    .dataframe tbody tr th {\n",
       "        vertical-align: top;\n",
       "    }\n",
       "\n",
       "    .dataframe thead th {\n",
       "        text-align: right;\n",
       "    }\n",
       "</style>\n",
       "<table border=\"1\" class=\"dataframe\">\n",
       "  <thead>\n",
       "    <tr style=\"text-align: right;\">\n",
       "      <th></th>\n",
       "      <th>birds</th>\n",
       "      <th>age</th>\n",
       "    </tr>\n",
       "  </thead>\n",
       "  <tbody>\n",
       "    <tr>\n",
       "      <th>0</th>\n",
       "      <td>Cranes</td>\n",
       "      <td>3.5</td>\n",
       "    </tr>\n",
       "    <tr>\n",
       "      <th>1</th>\n",
       "      <td>Cranes</td>\n",
       "      <td>4</td>\n",
       "    </tr>\n",
       "    <tr>\n",
       "      <th>2</th>\n",
       "      <td>plovers</td>\n",
       "      <td>1.5</td>\n",
       "    </tr>\n",
       "    <tr>\n",
       "      <th>3</th>\n",
       "      <td>spoonbills</td>\n",
       "      <td>np.nan</td>\n",
       "    </tr>\n",
       "    <tr>\n",
       "      <th>4</th>\n",
       "      <td>spoonbills</td>\n",
       "      <td>6</td>\n",
       "    </tr>\n",
       "    <tr>\n",
       "      <th>5</th>\n",
       "      <td>Cranes</td>\n",
       "      <td>3</td>\n",
       "    </tr>\n",
       "    <tr>\n",
       "      <th>6</th>\n",
       "      <td>plovers</td>\n",
       "      <td>5.5</td>\n",
       "    </tr>\n",
       "    <tr>\n",
       "      <th>7</th>\n",
       "      <td>Cranes</td>\n",
       "      <td>np.nan</td>\n",
       "    </tr>\n",
       "    <tr>\n",
       "      <th>8</th>\n",
       "      <td>spoonbills</td>\n",
       "      <td>8</td>\n",
       "    </tr>\n",
       "    <tr>\n",
       "      <th>9</th>\n",
       "      <td>spoonbills</td>\n",
       "      <td>4</td>\n",
       "    </tr>\n",
       "  </tbody>\n",
       "</table>\n",
       "</div>"
      ],
      "text/plain": [
       "        birds     age\n",
       "0      Cranes     3.5\n",
       "1      Cranes       4\n",
       "2     plovers     1.5\n",
       "3  spoonbills  np.nan\n",
       "4  spoonbills       6\n",
       "5      Cranes       3\n",
       "6     plovers     5.5\n",
       "7      Cranes  np.nan\n",
       "8  spoonbills       8\n",
       "9  spoonbills       4"
      ]
     },
     "execution_count": 4,
     "metadata": {},
     "output_type": "execute_result"
    }
   ],
   "source": [
    "\n",
    "birds_df[['birds','age']]"
   ]
  },
  {
   "cell_type": "markdown",
   "metadata": {
    "colab_type": "text",
    "id": "33v_rzNyhcvf"
   },
   "source": [
    "**5. select [2, 3, 7] rows and in columns ['birds', 'age', 'visits']**"
   ]
  },
  {
   "cell_type": "code",
   "execution_count": 5,
   "metadata": {
    "colab": {},
    "colab_type": "code",
    "id": "ia5weqCOhcvh"
   },
   "outputs": [
    {
     "data": {
      "text/html": [
       "<div>\n",
       "<style scoped>\n",
       "    .dataframe tbody tr th:only-of-type {\n",
       "        vertical-align: middle;\n",
       "    }\n",
       "\n",
       "    .dataframe tbody tr th {\n",
       "        vertical-align: top;\n",
       "    }\n",
       "\n",
       "    .dataframe thead th {\n",
       "        text-align: right;\n",
       "    }\n",
       "</style>\n",
       "<table border=\"1\" class=\"dataframe\">\n",
       "  <thead>\n",
       "    <tr style=\"text-align: right;\">\n",
       "      <th></th>\n",
       "      <th>birds</th>\n",
       "      <th>age</th>\n",
       "      <th>visits</th>\n",
       "    </tr>\n",
       "  </thead>\n",
       "  <tbody>\n",
       "    <tr>\n",
       "      <th>2</th>\n",
       "      <td>plovers</td>\n",
       "      <td>1.5</td>\n",
       "      <td>3</td>\n",
       "    </tr>\n",
       "    <tr>\n",
       "      <th>3</th>\n",
       "      <td>spoonbills</td>\n",
       "      <td>np.nan</td>\n",
       "      <td>4</td>\n",
       "    </tr>\n",
       "    <tr>\n",
       "      <th>7</th>\n",
       "      <td>Cranes</td>\n",
       "      <td>np.nan</td>\n",
       "      <td>2</td>\n",
       "    </tr>\n",
       "  </tbody>\n",
       "</table>\n",
       "</div>"
      ],
      "text/plain": [
       "        birds     age  visits\n",
       "2     plovers     1.5       3\n",
       "3  spoonbills  np.nan       4\n",
       "7      Cranes  np.nan       2"
      ]
     },
     "execution_count": 5,
     "metadata": {},
     "output_type": "execute_result"
    }
   ],
   "source": [
    "birds_df[['birds','age','visits']].iloc[[2,3,7]]\n"
   ]
  },
  {
   "cell_type": "markdown",
   "metadata": {
    "colab_type": "text",
    "id": "uulxo5y-hcvo"
   },
   "source": [
    "**6. select the rows where the number of visits is less than 4**"
   ]
  },
  {
   "cell_type": "code",
   "execution_count": 6,
   "metadata": {
    "colab": {},
    "colab_type": "code",
    "id": "6Khj7LfZhcvq"
   },
   "outputs": [
    {
     "data": {
      "text/html": [
       "<div>\n",
       "<style scoped>\n",
       "    .dataframe tbody tr th:only-of-type {\n",
       "        vertical-align: middle;\n",
       "    }\n",
       "\n",
       "    .dataframe tbody tr th {\n",
       "        vertical-align: top;\n",
       "    }\n",
       "\n",
       "    .dataframe thead th {\n",
       "        text-align: right;\n",
       "    }\n",
       "</style>\n",
       "<table border=\"1\" class=\"dataframe\">\n",
       "  <thead>\n",
       "    <tr style=\"text-align: right;\">\n",
       "      <th></th>\n",
       "      <th>age</th>\n",
       "      <th>birds</th>\n",
       "      <th>priority</th>\n",
       "      <th>visits</th>\n",
       "    </tr>\n",
       "  </thead>\n",
       "  <tbody>\n",
       "    <tr>\n",
       "      <th>0</th>\n",
       "      <td>3.5</td>\n",
       "      <td>Cranes</td>\n",
       "      <td>yes</td>\n",
       "      <td>2</td>\n",
       "    </tr>\n",
       "    <tr>\n",
       "      <th>2</th>\n",
       "      <td>1.5</td>\n",
       "      <td>plovers</td>\n",
       "      <td>no</td>\n",
       "      <td>3</td>\n",
       "    </tr>\n",
       "    <tr>\n",
       "      <th>4</th>\n",
       "      <td>6</td>\n",
       "      <td>spoonbills</td>\n",
       "      <td>no</td>\n",
       "      <td>3</td>\n",
       "    </tr>\n",
       "    <tr>\n",
       "      <th>6</th>\n",
       "      <td>5.5</td>\n",
       "      <td>plovers</td>\n",
       "      <td>no</td>\n",
       "      <td>2</td>\n",
       "    </tr>\n",
       "    <tr>\n",
       "      <th>7</th>\n",
       "      <td>np.nan</td>\n",
       "      <td>Cranes</td>\n",
       "      <td>yes</td>\n",
       "      <td>2</td>\n",
       "    </tr>\n",
       "    <tr>\n",
       "      <th>8</th>\n",
       "      <td>8</td>\n",
       "      <td>spoonbills</td>\n",
       "      <td>no</td>\n",
       "      <td>3</td>\n",
       "    </tr>\n",
       "    <tr>\n",
       "      <th>9</th>\n",
       "      <td>4</td>\n",
       "      <td>spoonbills</td>\n",
       "      <td>no</td>\n",
       "      <td>2</td>\n",
       "    </tr>\n",
       "  </tbody>\n",
       "</table>\n",
       "</div>"
      ],
      "text/plain": [
       "      age       birds priority  visits\n",
       "0     3.5      Cranes      yes       2\n",
       "2     1.5     plovers       no       3\n",
       "4       6  spoonbills       no       3\n",
       "6     5.5     plovers       no       2\n",
       "7  np.nan      Cranes      yes       2\n",
       "8       8  spoonbills       no       3\n",
       "9       4  spoonbills       no       2"
      ]
     },
     "execution_count": 6,
     "metadata": {},
     "output_type": "execute_result"
    }
   ],
   "source": [
    "birds_df[birds_df.visits < 4 ]"
   ]
  },
  {
   "cell_type": "markdown",
   "metadata": {
    "colab_type": "text",
    "id": "sB8icEBVhcvy"
   },
   "source": [
    "**7. select the rows with columns ['birds', 'visits'] where the age is missing i.e NaN**"
   ]
  },
  {
   "cell_type": "code",
   "execution_count": 7,
   "metadata": {
    "colab": {},
    "colab_type": "code",
    "id": "dHoZ2z2ghcv2"
   },
   "outputs": [
    {
     "data": {
      "text/html": [
       "<div>\n",
       "<style scoped>\n",
       "    .dataframe tbody tr th:only-of-type {\n",
       "        vertical-align: middle;\n",
       "    }\n",
       "\n",
       "    .dataframe tbody tr th {\n",
       "        vertical-align: top;\n",
       "    }\n",
       "\n",
       "    .dataframe thead th {\n",
       "        text-align: right;\n",
       "    }\n",
       "</style>\n",
       "<table border=\"1\" class=\"dataframe\">\n",
       "  <thead>\n",
       "    <tr style=\"text-align: right;\">\n",
       "      <th></th>\n",
       "      <th>age</th>\n",
       "      <th>birds</th>\n",
       "      <th>priority</th>\n",
       "      <th>visits</th>\n",
       "    </tr>\n",
       "  </thead>\n",
       "  <tbody>\n",
       "    <tr>\n",
       "      <th>3</th>\n",
       "      <td>np.nan</td>\n",
       "      <td>spoonbills</td>\n",
       "      <td>yes</td>\n",
       "      <td>4</td>\n",
       "    </tr>\n",
       "    <tr>\n",
       "      <th>7</th>\n",
       "      <td>np.nan</td>\n",
       "      <td>Cranes</td>\n",
       "      <td>yes</td>\n",
       "      <td>2</td>\n",
       "    </tr>\n",
       "  </tbody>\n",
       "</table>\n",
       "</div>"
      ],
      "text/plain": [
       "      age       birds priority  visits\n",
       "3  np.nan  spoonbills      yes       4\n",
       "7  np.nan      Cranes      yes       2"
      ]
     },
     "execution_count": 7,
     "metadata": {},
     "output_type": "execute_result"
    }
   ],
   "source": [
    "birds_df[birds_df.age == 'np.nan' ]"
   ]
  },
  {
   "cell_type": "markdown",
   "metadata": {
    "colab_type": "text",
    "id": "sgiIkh1Ghcv-"
   },
   "source": [
    "**8. Select the rows where the birds is a Cranes and the age is less than 4**"
   ]
  },
  {
   "cell_type": "code",
   "execution_count": 8,
   "metadata": {
    "colab": {},
    "colab_type": "code",
    "id": "4of7A8gehcwC"
   },
   "outputs": [
    {
     "name": "stdout",
     "output_type": "stream",
     "text": [
      "   age   birds priority  visits\n",
      "0    3  Cranes      yes       2\n",
      "5    3  Cranes       no       4\n",
      "7    0  Cranes      yes       2\n"
     ]
    }
   ],
   "source": [
    "\n",
    "birds_df.age = pd.to_numeric(birds_df.age, errors='coerce')\n",
    "\n",
    "birds_df.age = pd.to_numeric(birds_df.age, errors='coerce').fillna(0).astype(np.int64)\n",
    "\n",
    "\n",
    "print(birds_df[(birds_df.birds == 'Cranes') &  (birds_df.age.astype(int) < 4)])"
   ]
  },
  {
   "cell_type": "markdown",
   "metadata": {
    "colab_type": "text",
    "id": "IZrFrd1AhcwH"
   },
   "source": [
    "**9. Select the rows the age is between 2 and 4(inclusive)**"
   ]
  },
  {
   "cell_type": "code",
   "execution_count": 9,
   "metadata": {
    "colab": {},
    "colab_type": "code",
    "id": "Ij6co9oJhcwT"
   },
   "outputs": [
    {
     "name": "stdout",
     "output_type": "stream",
     "text": [
      "   age       birds priority  visits\n",
      "0    3      Cranes      yes       2\n",
      "1    4      Cranes      yes       4\n",
      "5    3      Cranes       no       4\n",
      "9    4  spoonbills       no       2\n"
     ]
    }
   ],
   "source": [
    "\n",
    "birds_df.age = pd.to_numeric(birds_df.age, errors='coerce')\n",
    "\n",
    "birds_df.age = pd.to_numeric(birds_df.age, errors='coerce').fillna(0).astype(np.int64)\n",
    "\n",
    "print(birds_df[(birds_df.age.astype(int) > 2) & (birds_df.age.astype(int) <= 4)])"
   ]
  },
  {
   "cell_type": "markdown",
   "metadata": {
    "colab_type": "text",
    "id": "KvV1eyyehcwX"
   },
   "source": [
    "**10. Find the total number of visits of the bird Cranes**"
   ]
  },
  {
   "cell_type": "code",
   "execution_count": 10,
   "metadata": {
    "colab": {},
    "colab_type": "code",
    "id": "y5NyL569hcwY"
   },
   "outputs": [
    {
     "name": "stdout",
     "output_type": "stream",
     "text": [
      "Total number of Crane bird visits : 12\n"
     ]
    }
   ],
   "source": [
    "visits_total = birds_df[birds_df.birds == 'Cranes']['visits'].sum()\n",
    "print(\"Total number of Crane bird visits :\",visits_total)"
   ]
  },
  {
   "cell_type": "markdown",
   "metadata": {
    "colab_type": "text",
    "id": "S-1B7oDehcwf"
   },
   "source": [
    "**11. Calculate the mean age for each different birds in dataframe.**"
   ]
  },
  {
   "cell_type": "code",
   "execution_count": 35,
   "metadata": {
    "colab": {},
    "colab_type": "code",
    "id": "ljKjf7nyhcwg"
   },
   "outputs": [
    {
     "name": "stdout",
     "output_type": "stream",
     "text": [
      "            age  visits\n",
      "birds                  \n",
      "Cranes      2.5     3.0\n",
      "Sparrow     2.0     3.0\n",
      "plovers     3.0     2.5\n",
      "spoonbills  4.5     3.0\n"
     ]
    }
   ],
   "source": [
    "bird_mean = birds_df.groupby(['birds']).mean()\n",
    "print(bird_mean)"
   ]
  },
  {
   "cell_type": "markdown",
   "metadata": {
    "colab_type": "text",
    "id": "B5HIznnMhcwl"
   },
   "source": [
    "**12. Append a new row 'k' to dataframe with your choice of values for each column. Then delete that row to return the original DataFrame.**"
   ]
  },
  {
   "cell_type": "code",
   "execution_count": 54,
   "metadata": {
    "colab": {},
    "colab_type": "code",
    "id": "GDDd9mXEhcwm"
   },
   "outputs": [
    {
     "name": "stdout",
     "output_type": "stream",
     "text": [
      "   age       birds priority  visits\n",
      "1  4.0      Cranes      yes     4.0\n",
      "2  1.0     plovers       no     3.0\n",
      "3  0.0  spoonbills      yes     4.0\n",
      "4  6.0  spoonbills       no     3.0\n",
      "5  3.0      Cranes       no     4.0\n",
      "6  5.0     plovers       no     2.0\n",
      "7  0.0      Cranes      yes     2.0\n",
      "8  8.0  spoonbills       no     3.0\n",
      "9  4.0  spoonbills       no     2.0\n",
      "k  2.0     Sparrow      yes     3.0\n"
     ]
    }
   ],
   "source": [
    "birds_df1 = pd.DataFrame(pd.DataFrame.from_dict(new_data), index=['k'])\n",
    "\n",
    "\n",
    "birds_df = birds_df.append(birds_df1)\n",
    "\n",
    "birds_df.loc['k'] = [2,'Sparrow','yes',3]\n",
    "\n",
    "\n",
    "\n",
    "print(birds_df)\n"
   ]
  },
  {
   "cell_type": "code",
   "execution_count": 57,
   "metadata": {},
   "outputs": [
    {
     "name": "stdout",
     "output_type": "stream",
     "text": [
      "   age       birds priority  visits\n",
      "1  4.0      Cranes      yes     4.0\n",
      "2  1.0     plovers       no     3.0\n",
      "3  0.0  spoonbills      yes     4.0\n",
      "4  6.0  spoonbills       no     3.0\n",
      "5  3.0      Cranes       no     4.0\n",
      "6  5.0     plovers       no     2.0\n",
      "7  0.0      Cranes      yes     2.0\n",
      "8  8.0  spoonbills       no     3.0\n",
      "9  4.0  spoonbills       no     2.0\n"
     ]
    }
   ],
   "source": [
    "birds_df = birds_df.drop('k')\n",
    "print(birds_df)"
   ]
  },
  {
   "cell_type": "markdown",
   "metadata": {
    "colab_type": "text",
    "id": "_cLx6xLahcwq"
   },
   "source": [
    "**13. Find the number of each type of birds in dataframe (Counts)**"
   ]
  },
  {
   "cell_type": "code",
   "execution_count": 58,
   "metadata": {
    "colab": {},
    "colab_type": "code",
    "id": "aTHV8JJMhcws"
   },
   "outputs": [
    {
     "name": "stdout",
     "output_type": "stream",
     "text": [
      "birds\n",
      "Cranes        3\n",
      "plovers       2\n",
      "spoonbills    4\n",
      "dtype: int64\n"
     ]
    }
   ],
   "source": [
    "bird_type = birds_df.groupby(['birds']).size()\n",
    "\n",
    "print(bird_type)"
   ]
  },
  {
   "cell_type": "markdown",
   "metadata": {
    "colab_type": "text",
    "id": "-SJ6OYuYhcww"
   },
   "source": [
    "**14. Sort dataframe (birds) first by the values in the 'age' in decending order, then by the value in the 'visits' column in ascending order.**"
   ]
  },
  {
   "cell_type": "code",
   "execution_count": 59,
   "metadata": {
    "colab": {},
    "colab_type": "code",
    "id": "1oeqEqBjhcwy"
   },
   "outputs": [
    {
     "name": "stdout",
     "output_type": "stream",
     "text": [
      "   age       birds priority  visits\n",
      "8  8.0  spoonbills       no     3.0\n",
      "4  6.0  spoonbills       no     3.0\n",
      "6  5.0     plovers       no     2.0\n",
      "1  4.0      Cranes      yes     4.0\n",
      "9  4.0  spoonbills       no     2.0\n",
      "5  3.0      Cranes       no     4.0\n",
      "2  1.0     plovers       no     3.0\n",
      "3  0.0  spoonbills      yes     4.0\n",
      "7  0.0      Cranes      yes     2.0\n",
      "********************************************\n",
      "   age       birds priority  visits\n",
      "6  5.0     plovers       no     2.0\n",
      "7  0.0      Cranes      yes     2.0\n",
      "9  4.0  spoonbills       no     2.0\n",
      "2  1.0     plovers       no     3.0\n",
      "4  6.0  spoonbills       no     3.0\n",
      "8  8.0  spoonbills       no     3.0\n",
      "1  4.0      Cranes      yes     4.0\n",
      "3  0.0  spoonbills      yes     4.0\n",
      "5  3.0      Cranes       no     4.0\n"
     ]
    }
   ],
   "source": [
    "print(birds_df.sort_values('age',ascending=False))\n",
    "print(\"********************************************\")\n",
    "print(birds_df.sort_values('visits',ascending=True))"
   ]
  },
  {
   "cell_type": "markdown",
   "metadata": {
    "colab_type": "text",
    "id": "JaKj7ZQUhcw7"
   },
   "source": [
    "**15. Replace the priority column values with'yes' should be 1 and 'no' should be 0**"
   ]
  },
  {
   "cell_type": "code",
   "execution_count": 60,
   "metadata": {
    "colab": {},
    "colab_type": "code",
    "id": "AJAPYiIHhcw9"
   },
   "outputs": [
    {
     "name": "stdout",
     "output_type": "stream",
     "text": [
      "   age       birds  priority  visits\n",
      "1  4.0      Cranes         1     4.0\n",
      "2  1.0     plovers         0     3.0\n",
      "3  0.0  spoonbills         1     4.0\n",
      "4  6.0  spoonbills         0     3.0\n",
      "5  3.0      Cranes         0     4.0\n",
      "6  5.0     plovers         0     2.0\n",
      "7  0.0      Cranes         1     2.0\n",
      "8  8.0  spoonbills         0     3.0\n",
      "9  4.0  spoonbills         0     2.0\n"
     ]
    }
   ],
   "source": [
    "priority_yes = birds_df.replace({'priority':['yes']},1)\n",
    "#print(priority_yes)\n",
    "\n",
    "priority_no = priority_yes.replace({'priority':['no']},0)\n",
    "print(priority_no)"
   ]
  },
  {
   "cell_type": "markdown",
   "metadata": {
    "colab_type": "text",
    "id": "E2EFmujbhcxA"
   },
   "source": [
    "**16. In the 'birds' column, change the 'Cranes' entries to 'trumpeters'.**"
   ]
  },
  {
   "cell_type": "code",
   "execution_count": 61,
   "metadata": {
    "colab": {},
    "colab_type": "code",
    "id": "Bi29Cc6lhcxC"
   },
   "outputs": [
    {
     "name": "stdout",
     "output_type": "stream",
     "text": [
      "   age       birds priority  visits\n",
      "1  4.0  trumpeters      yes     4.0\n",
      "2  1.0     plovers       no     3.0\n",
      "3  0.0  spoonbills      yes     4.0\n",
      "4  6.0  spoonbills       no     3.0\n",
      "5  3.0  trumpeters       no     4.0\n",
      "6  5.0     plovers       no     2.0\n",
      "7  0.0  trumpeters      yes     2.0\n",
      "8  8.0  spoonbills       no     3.0\n",
      "9  4.0  spoonbills       no     2.0\n"
     ]
    }
   ],
   "source": [
    "trumpeters = birds_df.replace({'birds':['Cranes']},'trumpeters')\n",
    "\n",
    "print(trumpeters)"
   ]
  },
  {
   "cell_type": "code",
   "execution_count": null,
   "metadata": {},
   "outputs": [],
   "source": []
  }
 ],
 "metadata": {
  "colab": {
   "name": "pandas_basics_practice.ipynb",
   "provenance": [],
   "version": "0.3.2"
  },
  "kernelspec": {
   "display_name": "Python 3",
   "language": "python",
   "name": "python3"
  },
  "language_info": {
   "codemirror_mode": {
    "name": "ipython",
    "version": 3
   },
   "file_extension": ".py",
   "mimetype": "text/x-python",
   "name": "python",
   "nbconvert_exporter": "python",
   "pygments_lexer": "ipython3",
   "version": "3.5.2"
  }
 },
 "nbformat": 4,
 "nbformat_minor": 1
}
