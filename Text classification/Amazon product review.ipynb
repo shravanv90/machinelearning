{
 "cells": [
  {
   "cell_type": "code",
   "execution_count": 1,
   "metadata": {},
   "outputs": [],
   "source": [
    "import pandas as pd\n",
    "import numpy as np\n",
    "\n",
    "amazon = pd.read_csv(\"amazon_cells_labelled.txt\", sep= \"\\t\",names=[\"Review\",\"Sentiment\"])"
   ]
  },
  {
   "cell_type": "code",
   "execution_count": 2,
   "metadata": {},
   "outputs": [
    {
     "data": {
      "text/html": [
       "<div>\n",
       "<style scoped>\n",
       "    .dataframe tbody tr th:only-of-type {\n",
       "        vertical-align: middle;\n",
       "    }\n",
       "\n",
       "    .dataframe tbody tr th {\n",
       "        vertical-align: top;\n",
       "    }\n",
       "\n",
       "    .dataframe thead th {\n",
       "        text-align: right;\n",
       "    }\n",
       "</style>\n",
       "<table border=\"1\" class=\"dataframe\">\n",
       "  <thead>\n",
       "    <tr style=\"text-align: right;\">\n",
       "      <th></th>\n",
       "      <th>Review</th>\n",
       "      <th>Sentiment</th>\n",
       "    </tr>\n",
       "  </thead>\n",
       "  <tbody>\n",
       "    <tr>\n",
       "      <th>0</th>\n",
       "      <td>So there is no way for me to plug it in here i...</td>\n",
       "      <td>0</td>\n",
       "    </tr>\n",
       "    <tr>\n",
       "      <th>1</th>\n",
       "      <td>Good case, Excellent value.</td>\n",
       "      <td>1</td>\n",
       "    </tr>\n",
       "    <tr>\n",
       "      <th>2</th>\n",
       "      <td>Great for the jawbone.</td>\n",
       "      <td>1</td>\n",
       "    </tr>\n",
       "    <tr>\n",
       "      <th>3</th>\n",
       "      <td>Tied to charger for conversations lasting more...</td>\n",
       "      <td>0</td>\n",
       "    </tr>\n",
       "    <tr>\n",
       "      <th>4</th>\n",
       "      <td>The mic is great.</td>\n",
       "      <td>1</td>\n",
       "    </tr>\n",
       "  </tbody>\n",
       "</table>\n",
       "</div>"
      ],
      "text/plain": [
       "                                              Review  Sentiment\n",
       "0  So there is no way for me to plug it in here i...          0\n",
       "1                        Good case, Excellent value.          1\n",
       "2                             Great for the jawbone.          1\n",
       "3  Tied to charger for conversations lasting more...          0\n",
       "4                                  The mic is great.          1"
      ]
     },
     "execution_count": 2,
     "metadata": {},
     "output_type": "execute_result"
    }
   ],
   "source": [
    "amazon.head()"
   ]
  },
  {
   "cell_type": "code",
   "execution_count": 76,
   "metadata": {},
   "outputs": [],
   "source": [
    "pos = amazon[amazon[\"Sentiment\"] == 1].count()\n",
    "\n",
    "neg = amazon[amazon[\"Sentiment\"] == 0].count()\n",
    "\n",
    "\n"
   ]
  },
  {
   "cell_type": "code",
   "execution_count": 82,
   "metadata": {},
   "outputs": [
    {
     "data": {
      "text/html": [
       "<div>\n",
       "<style scoped>\n",
       "    .dataframe tbody tr th:only-of-type {\n",
       "        vertical-align: middle;\n",
       "    }\n",
       "\n",
       "    .dataframe tbody tr th {\n",
       "        vertical-align: top;\n",
       "    }\n",
       "\n",
       "    .dataframe thead th {\n",
       "        text-align: right;\n",
       "    }\n",
       "</style>\n",
       "<table border=\"1\" class=\"dataframe\">\n",
       "  <thead>\n",
       "    <tr style=\"text-align: right;\">\n",
       "      <th></th>\n",
       "      <th>Review</th>\n",
       "      <th>Sentiment</th>\n",
       "      <th>Text_length</th>\n",
       "    </tr>\n",
       "  </thead>\n",
       "  <tbody>\n",
       "    <tr>\n",
       "      <th>0</th>\n",
       "      <td>So there is no way for me to plug it in here i...</td>\n",
       "      <td>0</td>\n",
       "      <td>82</td>\n",
       "    </tr>\n",
       "    <tr>\n",
       "      <th>1</th>\n",
       "      <td>Good case, Excellent value.</td>\n",
       "      <td>1</td>\n",
       "      <td>27</td>\n",
       "    </tr>\n",
       "    <tr>\n",
       "      <th>2</th>\n",
       "      <td>Great for the jawbone.</td>\n",
       "      <td>1</td>\n",
       "      <td>22</td>\n",
       "    </tr>\n",
       "    <tr>\n",
       "      <th>3</th>\n",
       "      <td>Tied to charger for conversations lasting more...</td>\n",
       "      <td>0</td>\n",
       "      <td>79</td>\n",
       "    </tr>\n",
       "    <tr>\n",
       "      <th>4</th>\n",
       "      <td>The mic is great.</td>\n",
       "      <td>1</td>\n",
       "      <td>17</td>\n",
       "    </tr>\n",
       "  </tbody>\n",
       "</table>\n",
       "</div>"
      ],
      "text/plain": [
       "                                              Review  Sentiment  Text_length\n",
       "0  So there is no way for me to plug it in here i...          0           82\n",
       "1                        Good case, Excellent value.          1           27\n",
       "2                             Great for the jawbone.          1           22\n",
       "3  Tied to charger for conversations lasting more...          0           79\n",
       "4                                  The mic is great.          1           17"
      ]
     },
     "execution_count": 82,
     "metadata": {},
     "output_type": "execute_result"
    }
   ],
   "source": [
    "def text_length(data):\n",
    "    return len(data)\n",
    "\n",
    "amazon[\"Text_length\"] = amazon[\"Review\"].apply(text_length)\n",
    "amazon.head()"
   ]
  },
  {
   "cell_type": "code",
   "execution_count": 92,
   "metadata": {},
   "outputs": [
    {
     "data": {
      "text/plain": [
       "<seaborn.axisgrid.JointGrid at 0x1c99badc438>"
      ]
     },
     "execution_count": 92,
     "metadata": {},
     "output_type": "execute_result"
    },
    {
     "data": {
      "image/png": "[encoded data removed]",
      "text/plain": [
       "<Figure size 432x432 with 3 Axes>"
      ]
     },
     "metadata": {
      "needs_background": "light"
     },
     "output_type": "display_data"
    }
   ],
   "source": [
    "import matplotlib.pyplot as plt\n",
    "import seaborn as sb\n",
    "\n",
    "%matplotlib inline\n",
    "\n",
    "sb.jointplot(x= \"Text_length\",y=\"Sentiment\" , data = amazon,kind = \"kde\")\n"
   ]
  },
  {
   "cell_type": "code",
   "execution_count": 115,
   "metadata": {},
   "outputs": [
    {
     "data": {
      "text/plain": [
       "<matplotlib.axes._subplots.AxesSubplot at 0x1c9a7d68b00>"
      ]
     },
     "execution_count": 115,
     "metadata": {},
     "output_type": "execute_result"
    },
    {
     "data": {
      "image/png": "[encoded data removed]",
      "text/plain": [
       "<Figure size 432x288 with 1 Axes>"
      ]
     },
     "metadata": {
      "needs_background": "light"
     },
     "output_type": "display_data"
    }
   ],
   "source": [
    "\n",
    "\n",
    "amazon[\"Text_length\"][amazon[\"Sentiment\"] == 1].plot.hist(bins = 50)\n",
    "\n",
    "\n",
    "amazon[\"Text_length\"][amazon[\"Sentiment\"] == 0].plot.hist(bins = 50)"
   ]
  },
  {
   "cell_type": "code",
   "execution_count": 130,
   "metadata": {},
   "outputs": [
    {
     "data": {
      "text/plain": [
       "0      So there is no way for me to plug it in here i...\n",
       "1                              Good case Excellent value\n",
       "2                                  Great for the jawbone\n",
       "3      Tied to charger for conversations lasting more...\n",
       "4                                       The mic is great\n",
       "5      I have to jiggle the plug to get it to line up...\n",
       "6      If you have several dozen or several hundred c...\n",
       "7                If you are Razr owneryou must have this\n",
       "8                      Needless to say I wasted my money\n",
       "9                         What a waste of money and time\n",
       "10                        And the sound quality is great\n",
       "11     He was very impressed when going from the orig...\n",
       "12     If the two were seperated by a mere 5 ft I sta...\n",
       "13                              Very good quality though\n",
       "14     The design is very odd as the ear clip is not ...\n",
       "15     Highly recommend for any one who has a blue to...\n",
       "16                    I advise EVERYONE DO NOT BE FOOLED\n",
       "17                                        So Far So Good\n",
       "18                                           Works great\n",
       "19     It clicks into place in a way that makes you w...\n",
       "20     I went on Motorolas website and followed all d...\n",
       "21     I bought this to use with my Kindle Fire and a...\n",
       "22               The commercials are the most misleading\n",
       "23     I have yet to run this new battery below two b...\n",
       "24     I bought it for my mother and she had a proble...\n",
       "25                    Great Pocket PC  phone combination\n",
       "26     Ive owned this phone for 7 months now and can ...\n",
       "27     I didnt think that the instructions provided w...\n",
       "28     People couldnt hear me talk and I had to pull ...\n",
       "29                                    Doesnt hold charge\n",
       "                             ...                        \n",
       "970    I plugged it in only to find out not a darn th...\n",
       "971                                    Excellent product\n",
       "972                           Earbud piece breaks easily\n",
       "973                                        Lousy product\n",
       "974    This phone tries very hard to do everything bu...\n",
       "975    It is the best charger I have seen on the mark...\n",
       "976                                       SWEETEST PHONE\n",
       "977                    Oh the charger seems to work fine\n",
       "978    It fits so securely that the ear hook does not...\n",
       "979                                    Not enough volume\n",
       "980                      Echo ProblemVery unsatisfactory\n",
       "981    you could only take 2 videos at a time and the...\n",
       "982                                dont waste your money\n",
       "983    I am going to have to be the first to negative...\n",
       "984     Adapter does not provide enough charging current\n",
       "985    There was so much hype over this phone that I ...\n",
       "986    You also cannot take pictures with it in the c...\n",
       "987                               Phone falls out easily\n",
       "988     It didnt work people can not hear me when I talk\n",
       "989    The text messaging feature is really tricky to...\n",
       "990    Im really disappointed all I have now is a cha...\n",
       "991                                   Painful on the ear\n",
       "992                      Lasted one day and then blew up\n",
       "993                                         disappointed\n",
       "994                                 Kind of flops around\n",
       "995    The screen does get smudged easily because it ...\n",
       "996    What a piece of junk I lose more calls on this...\n",
       "997                          Item Does Not Match Picture\n",
       "998    The only thing that disappoint me is the infra...\n",
       "999    You can not answer calls with the unit never w...\n",
       "Name: Review, Length: 1000, dtype: object"
      ]
     },
     "execution_count": 130,
     "metadata": {},
     "output_type": "execute_result"
    }
   ],
   "source": [
    "import string\n",
    "def rem_punc(data):\n",
    "    data = str(data)\n",
    "    return data.translate(data.maketrans('','',string.punctuation))\n",
    "\n",
    "data = \"Test ! message: let's see what happens!?\"\n",
    "\n",
    "#rem_punc(data)\n",
    "\n",
    "amazon[\"Review\"] = amazon[\"Review\"].apply(rem_punc)\n",
    "amazon[\"Review\"]"
   ]
  },
  {
   "cell_type": "code",
   "execution_count": 175,
   "metadata": {},
   "outputs": [
    {
     "name": "stdout",
     "output_type": "stream",
     "text": [
      "[[57 36]\n",
      " [26 81]]\n",
      "Accuracy score Naive Bayes: 0.6897619047619047\n",
      "############################\n",
      "[[82 11]\n",
      " [29 78]]\n",
      "Accuracy score Logistic regression: 0.7656516290726817\n",
      "############################\n",
      "[[79 14]\n",
      " [31 76]]\n",
      "Accuracy score Decision tree: 0.735814536340852\n",
      "############################\n",
      "[[89  4]\n",
      " [35 72]]\n",
      "Accuracy score Random Forest: 0.6854761904761906\n",
      "############################\n",
      "[[68 25]\n",
      " [19 88]]\n",
      "Accuracy score KNN: 0.7308395989974937\n"
     ]
    }
   ],
   "source": [
    "from nltk.corpus import stopwords\n",
    "\n",
    "from sklearn.feature_extraction.text import TfidfVectorizer\n",
    "from sklearn.naive_bayes import GaussianNB\n",
    "from sklearn.linear_model import LogisticRegression\n",
    "from sklearn.tree import DecisionTreeClassifier\n",
    "from sklearn.ensemble import RandomForestClassifier\n",
    "from sklearn.svm import SVC\n",
    "from sklearn.neighbors import KNeighborsClassifier\n",
    "from sklearn.model_selection import train_test_split,cross_val_score\n",
    "from sklearn.metrics import confusion_matrix\n",
    "import warnings\n",
    "\n",
    "warnings.filterwarnings(\"ignore\")\n",
    "\n",
    "vect = TfidfVectorizer(stop_words = \"english\")\n",
    "X = vect.fit_transform(amazon[\"Review\"])\n",
    "\n",
    "train_x, test_x , train_y, test_y = train_test_split(X,amazon[\"Sentiment\"], test_size = 0.2, random_state = 42)\n",
    "\n",
    "# Naive bayes classfictaion\n",
    "cls_nb = GaussianNB()\n",
    "cls_nb.fit(train_x.toarray(),train_y)\n",
    "\n",
    "\n",
    "print(confusion_matrix(test_y,cls_nb.predict(test_x.toarray())))\n",
    "print(\"Accuracy score Naive Bayes:\",cross_val_score(cls_nb,test_x.toarray(),test_y, cv = 10).mean())\n",
    "print(\"############################\")\n",
    "# Logistic regression\n",
    "\n",
    "cls_lr = LogisticRegression()\n",
    "cls_lr.fit(train_x.toarray(),train_y)\n",
    "print(confusion_matrix(test_y,cls_lr.predict(test_x.toarray())))\n",
    "print(\"Accuracy score Logistic regression:\",cross_val_score(cls_lr,test_x.toarray(),test_y, cv = 10).mean())\n",
    "print(\"############################\")\n",
    "\n",
    "# Decsion tree \n",
    "\n",
    "cls_dt = DecisionTreeClassifier(random_state = 42)\n",
    "cls_dt.fit(train_x.toarray(),train_y)\n",
    "print(confusion_matrix(test_y,cls_dt.predict(test_x.toarray())))\n",
    "print(\"Accuracy score Decision tree:\",cross_val_score(cls_dt,test_x.toarray(),test_y, cv = 10).mean())\n",
    "print(\"############################\")\n",
    "\n",
    "# Random Forest \n",
    "\n",
    "cls_rf = RandomForestClassifier(random_state = 42)\n",
    "cls_rf.fit(train_x.toarray(),train_y)\n",
    "print(confusion_matrix(test_y,cls_rf.predict(test_x.toarray())))\n",
    "print(\"Accuracy score Random Forest:\",cross_val_score(cls_rf,test_x.toarray(),test_y, cv = 10).mean())\n",
    "print(\"############################\")\n",
    "\n",
    "# KNN\n",
    "\n",
    "cls_knn = KNeighborsClassifier(n_neighbors=8)\n",
    "cls_knn.fit(train_x.toarray(),train_y)\n",
    "print(confusion_matrix(test_y,cls_knn.predict(test_x.toarray())))\n",
    "print(\"Accuracy score KNN:\",cross_val_score(cls_knn,test_x.toarray(),test_y, cv = 10).mean())"
   ]
  },
  {
   "cell_type": "code",
   "execution_count": null,
   "metadata": {},
   "outputs": [],
   "source": []
  },
  {
   "cell_type": "code",
   "execution_count": null,
   "metadata": {},
   "outputs": [],
   "source": []
  }
 ],
 "metadata": {
  "kernelspec": {
   "display_name": "Python 3",
   "language": "python",
   "name": "python3"
  },
  "language_info": {
   "codemirror_mode": {
    "name": "ipython",
    "version": 3
   },
   "file_extension": ".py",
   "mimetype": "text/x-python",
   "name": "python",
   "nbconvert_exporter": "python",
   "pygments_lexer": "ipython3",
   "version": "3.5.2"
  }
 },
 "nbformat": 4,
 "nbformat_minor": 2
}
